{
 "cells": [
  {
   "cell_type": "code",
   "execution_count": 2,
   "metadata": {},
   "outputs": [],
   "source": [
    "import torch\n",
    "import numpy as np"
   ]
  },
  {
   "attachments": {},
   "cell_type": "markdown",
   "metadata": {},
   "source": [
    "### Preprocess Data"
   ]
  },
  {
   "cell_type": "code",
   "execution_count": 17,
   "metadata": {},
   "outputs": [],
   "source": [
    "with open(\"ferdousi.txt\",encoding=\"utf8\") as f:\n",
    "    a = f.readlines()\n",
    "    a = np.array(a)"
   ]
  },
  {
   "cell_type": "code",
   "execution_count": 85,
   "metadata": {},
   "outputs": [
    {
     "name": "stdout",
     "output_type": "stream",
     "text": [
      "به بینندگان آفریننده را\n",
      " نبینی مرنجان دو بیننده را\n",
      "\n"
     ]
    }
   ],
   "source": [
    "oddIndex = np.linspace(3,a.shape[0]-2,(a.shape[0]-3)//2).astype(np.int64)-1\n",
    "evenIndex = np.linspace(4,a.shape[0]-1,(a.shape[0]-3)//2).astype(np.int64)-1\n",
    "FirstBeit = a[oddIndex]\n",
    "SecondBeit = a[evenIndex]\n",
    "print(FirstBeit[4],SecondBeit[4])\n"
   ]
  },
  {
   "cell_type": "code",
   "execution_count": 31,
   "metadata": {},
   "outputs": [
    {
     "data": {
      "text/plain": [
       "array([ 3,  5,  7,  9, 11, 13, 15], dtype=int64)"
      ]
     },
     "execution_count": 31,
     "metadata": {},
     "output_type": "execute_result"
    }
   ],
   "source": []
  }
 ],
 "metadata": {
  "kernelspec": {
   "display_name": "pytorchml_1",
   "language": "python",
   "name": "python3"
  },
  "language_info": {
   "codemirror_mode": {
    "name": "ipython",
    "version": 3
   },
   "file_extension": ".py",
   "mimetype": "text/x-python",
   "name": "python",
   "nbconvert_exporter": "python",
   "pygments_lexer": "ipython3",
   "version": "3.9.7"
  },
  "orig_nbformat": 4,
  "vscode": {
   "interpreter": {
    "hash": "29fd024e13bde8066174761b83f162451f6fe56b72867e0e29a3d40fdfcc11c0"
   }
  }
 },
 "nbformat": 4,
 "nbformat_minor": 2
}
